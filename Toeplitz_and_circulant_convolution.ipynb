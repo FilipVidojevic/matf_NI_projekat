{
 "cells": [
  {
   "cell_type": "markdown",
   "metadata": {},
   "source": [
    "# Konvolucija Toplicovim i cirkularnim matricama"
   ]
  },
  {
   "cell_type": "markdown",
   "metadata": {},
   "source": [
    "- Matrica je **Toplicova (dijagonalno konstantna)** ukoliko su elementi na svakoj dijagonali koja je paralelna glavnoj jednaki, tj. svaka matrica oblika:\n",
    "\n",
    "  $A = \\begin{bmatrix}\n",
    "a_0 & a_{-1} & a_{-2} & \\cdots & \\cdots & a_{-(n-1)} \\\\\n",
    "a_1 & a_0 & a_{-1} & \\ddots &  & \\vdots \\\\\n",
    "a_2 & a_1 & a_0 & \\ddots & \\ddots & \\vdots \\\\\n",
    "\\vdots & \\ddots & \\ddots & \\ddots & a_{-1} & a_{-2} \\\\\n",
    "\\vdots & & \\ddots & a_1 & a_0 & a_{-1} \\\\\n",
    "a_{n-1} & \\cdots & \\cdots & a_2 & a_1 & a_0\n",
    "\\end{bmatrix}$\n",
    "\n",
    "  je Toplicova.\n",
    "- Matrica je **Cirkularna** ako je oblika:\n",
    "\n",
    "  $A=\\begin{bmatrix}\n",
    "c_0 & c_{n-1} & \\cdots & c_2 & c_1 \\\\\n",
    "c_1 & c_0 & c_{n-1} &  & c_2\\\\\n",
    "\\vdots & c_1 & c_0 & \\ddots & \\vdots \\\\\n",
    "c_{n-2} & & \\ddots & \\ddots & c_{n-1} \\\\\n",
    "c_{n-1} & c_{n-2} & \\cdots & c_1 & c_0 \n",
    "\\end{bmatrix}$"
   ]
  },
  {
   "cell_type": "markdown",
   "metadata": {},
   "source": [
    "- Hoćemo da odradimo 2D konvoluciju matrice $f=\\begin{bmatrix}\n",
    "2 & 5 & 3 \\\\\n",
    "1 & 4 & 1\n",
    "\\end{bmatrix}$ kernelom $k=\\begin{bmatrix}\n",
    "1 & 2 \\\\\n",
    "3 & 4\n",
    "\\end{bmatrix}$,   pri čemu su dimenzije matrica redom $(M1,N1)=(3,2)$ i $(M2,N2)=(2,2)$.     Dimenzija izlaza je tada $(M1+M2-1,N1+N2-1)=(4,3)$\n",
    "- Prvo proširujemo h nulama, tako da joj dimenzija bude jednaka dimenziji izlaza: $h=\\begin{bmatrix} 1 & 2 & 0 & 0 \\\\ 3 & 4 & 0 & 0 \\\\ 0 & 0 & 0 & 0  \\end{bmatrix}$\n",
    "- Za svaki red matrice h, konstruišemo matricu sa 3 kolone (broj kolona matrice f):\n",
    "  $H1=\\begin{bmatrix} 1 & 0 & 0 \\\\ 2 & 1 & 0 \\\\ 0 & 2 & 1 \\\\ 0 & 0 & 2  \\end{bmatrix}\n",
    " H2=\\begin{bmatrix} 3 & 0 & 0 \\\\ 4 & 3 & 0 \\\\ 0 & 4 & 3 \\\\ 0 & 0 & 4  \\end{bmatrix}\n",
    " H3=\\begin{bmatrix} 0 & 0 & 0 \\\\ 0 & 0 & 0 \\\\ 0 & 0 & 0 \\\\ 0 & 0 & 0  \\end{bmatrix}$\n",
    " \n",
    "- Koristeći matrice $H1,H2,H3$ konstruišemo dvostruko Toplicovu matricu sa dve kolone (broj redova matrice f): $H=\\begin{bmatrix} H1 & H3 \\\\ H2 & H1 \\\\ H3 & H2\\end{bmatrix}$\n",
    "- Konstruišemo vektor $\\textbf{f}=\\begin{bmatrix}2 \\\\ 5 \\\\ 3 \\\\ 1 \\\\ 4\\\\1\\end{bmatrix}$ koristeći elemente matrice f. \n",
    "- Rezultat se dobija od vektora $g=H\\textbf{f}$, kada ga transformišemo u matricu odgovarajuće dimenzije.\n",
    "- Najveći problem sa ovakvim pristupom jeste prevelika količina memorija potrebna za formiranje potrebne matrice. To bismo mogli da zaobiđemo korišćenjem nekog programskog jezika koji podržava dobro upravljanje memorijom (recimo C ili C++)."
   ]
  },
  {
   "cell_type": "code",
   "execution_count": 3,
   "metadata": {},
   "outputs": [],
   "source": [
    "import numpy as np\n",
    "from scipy import signal as sg\n",
    "from time import time"
   ]
  },
  {
   "cell_type": "code",
   "execution_count": 25,
   "metadata": {},
   "outputs": [],
   "source": [
    "#funkcija koja za kvadratnu matricu A proverava da li je Toplicova\n",
    "def isToeplitz(A):\n",
    "    for i in range(0,A.shape[0]-1):\n",
    "        for j in range(1,A.shape[0]-i):\n",
    "            print(A[i][0],A[i+j][j])\n",
    "            if A[i][0]!=A[i+j][j]:\n",
    "                return 0\n",
    "    for j in range(0,A.shape[0]-1):\n",
    "        for i in range(1,A.shape[0]-j):\n",
    "            print(A[0][j],A[i][j+i])\n",
    "            if A[0][j]!=A[i][i+j]:\n",
    "                return 0\n",
    "            \n",
    "    return 1"
   ]
  },
  {
   "cell_type": "code",
   "execution_count": 26,
   "metadata": {},
   "outputs": [
    {
     "name": "stdout",
     "output_type": "stream",
     "text": [
      "[[1 5 2 3 8]\n",
      " [8 1 5 2 3]\n",
      " [3 8 1 5 2]\n",
      " [2 3 8 1 5]\n",
      " [5 2 3 8 1]]\n",
      "1 1\n",
      "1 1\n",
      "1 1\n",
      "1 1\n",
      "8 8\n",
      "8 8\n",
      "8 8\n",
      "3 3\n",
      "3 3\n",
      "2 2\n",
      "1 1\n",
      "1 1\n",
      "1 1\n",
      "1 1\n",
      "5 5\n",
      "5 5\n",
      "5 5\n",
      "2 2\n",
      "2 2\n",
      "3 3\n"
     ]
    },
    {
     "data": {
      "text/plain": [
       "1"
      ]
     },
     "execution_count": 26,
     "metadata": {},
     "output_type": "execute_result"
    }
   ],
   "source": [
    "print(C)\n",
    "isToeplitz(C)"
   ]
  },
  {
   "cell_type": "code",
   "execution_count": 5,
   "metadata": {},
   "outputs": [],
   "source": [
    "#pomocna funkcija\n",
    "def formHi(v,N1):\n",
    "    R=np.array([v]).T\n",
    "    \n",
    "    for i in range(N1-1):\n",
    "        v=np.insert(v,0,v[-1])\n",
    "        v=np.delete(v,-1)\n",
    "        R=np.hstack((R,np.array([v]).T))\n",
    "    return R\n",
    "\n",
    "#pomocna funkcija\n",
    "def formH(Hlist,M1,N3):\n",
    "    \n",
    "    vertical=Hlist[0]\n",
    "    for i in range(1,len(Hlist)):\n",
    "        vertical=np.vstack((vertical,Hlist[i]))\n",
    "    \n",
    "    R=vertical.copy()\n",
    "    \n",
    "    for _ in range(M1-1):\n",
    "        for i in range(N3):\n",
    "            vertical=np.insert(vertical,0,vertical[-1-i],axis=0)\n",
    "        for i in range(N3):\n",
    "            vertical=np.delete(vertical,-1,axis=0)\n",
    "        R=np.hstack((R,vertical))\n",
    "    \n",
    "    return R\n",
    "#pomocna funkcija\n",
    "def formF(A):\n",
    "    R=np.array([])\n",
    "    for row in A:\n",
    "        R=np.append(R,row)\n",
    "    return R.reshape(-1,1)\n",
    "#glavna funkcija\n",
    "def toeplitzConvolution(A,K):\n",
    "    \"\"\"\n",
    "    Vraća 2D konvoluciju matrice A kernelom K, formirajući dvostruko Toplicovu matricu \n",
    "    na način opisan prethodnim primerom.\n",
    "    \"\"\"\n",
    "    M1,N1=A.shape\n",
    "    M2,N2=K.shape\n",
    "    M3=M1+M2-1\n",
    "    N3=N1+N2-1\n",
    "    \n",
    "    K_padded=np.zeros((M3,N3))\n",
    "    K_padded[:M2,:N2]=K\n",
    "    \n",
    "    f=formF(A)\n",
    "    \n",
    "    Hlist=[]\n",
    "    for row in K_padded:\n",
    "        Hlist.append(formHi(row,N1))\n",
    "    \n",
    "    H=formH(Hlist,M1,N3)\n",
    "    \n",
    "    return np.dot(H,f).reshape(M3,N3)"
   ]
  },
  {
   "cell_type": "markdown",
   "metadata": {},
   "source": [
    "Uporedićemo vremena izvršavanja napisane funkcije i bibliotečke signal.convolve2d funkcije na 2 primera"
   ]
  },
  {
   "cell_type": "code",
   "execution_count": 6,
   "metadata": {},
   "outputs": [
    {
     "name": "stdout",
     "output_type": "stream",
     "text": [
      "signal.convolve2d: 0.0004012584686279297\n",
      "toeplitz convolution: 1.7189412117004395\n",
      "---------------------------------\n",
      "signal.convolve2d: 0.01308751106262207\n",
      "toeplitz convolution: 5.7195611000061035\n"
     ]
    }
   ],
   "source": [
    "a=np.random.randint(0,100,(50,50))\n",
    "b=np.random.randint(0,10,(3,3))\n",
    "t0=time()\n",
    "y=sg.convolve2d(a,b)\n",
    "t1=time()\n",
    "x=toeplitzConvolution(a,b)\n",
    "t2=time()\n",
    "\n",
    "#print(sum(x-y))\n",
    "print('signal.convolve2d:',t1-t0)\n",
    "print('toeplitz convolution:',-t1+t2)\n",
    "print('---------------------------------')\n",
    "\n",
    "a=np.random.randint(0,100,(50,50))\n",
    "b=np.random.randint(0,10,(30,30))\n",
    "t0=time()\n",
    "y=sg.convolve2d(a,b)\n",
    "t1=time()\n",
    "x=toeplitzConvolution(a,b)\n",
    "t2=time()\n",
    "\n",
    "#print(sum(x-y))\n",
    "print('signal.convolve2d:',t1-t0)\n",
    "print('toeplitz convolution:',-t1+t2)\n"
   ]
  },
  {
   "cell_type": "markdown",
   "metadata": {},
   "source": [
    "+ Vidimo da kada povećamo dimenziju kernela, vreme izvršavanja bibliotečke konvolucije se poveca znatno više (oko 100 puta) nego vreme izvšavanje konvolucije pomoću Toplicove matrice (oko 5 puta). To se dešava zbog načina na koji funkcije vrše konvoluciju. Bibliotečka convole2d funkcija radi množenja matrica, dok napisana je funkcija na pomeranju vektora i formiranju jedne velike matrice, sa samo jednim množenjem vektorom na kraju.\n",
    "- Razlog predugog izvršavanja napisane funkcije je to što numpy biblioteka ne radi inplace pomeranje vektora, već i za samo dodavanje i skidanje sa kraja, alocira novi memorijski blok i kopira elemente."
   ]
  },
  {
   "cell_type": "markdown",
   "metadata": {},
   "source": [
    "Konvolucija vektora v kernelom k se može odraditi formiranjem cirkularne matrice C, tako što se vektor v uzme za prvu kolonu matrice C, a ostale kolone se dobijaju cikličnim pomeranjem vektora v 'nadole'. Tražena konvolucija se dobija množenjem matrice C filterom k."
   ]
  },
  {
   "cell_type": "code",
   "execution_count": 7,
   "metadata": {},
   "outputs": [],
   "source": [
    "def circularConvolution(v,k):\n",
    "    \"\"\"\n",
    "    Formira cirkularnu matricu C od vektora v i vraća konvoluciju vektora v sa kernelom k, \n",
    "    zajedno sa matricom C.\n",
    "    \"\"\"\n",
    "    C=np.array([])\n",
    "    C=v.reshape(-1,1)\n",
    "    for i in range(v.size-k.size):\n",
    "        k=np.append(k,0)\n",
    "        \n",
    "    for i in range(v.size-1):\n",
    "        v=np.insert(v,0,v[-1])\n",
    "        v=np.delete(v,-1)\n",
    "        C=np.hstack((C,np.array([v]).T))\n",
    "    return np.dot(C,k),C\n",
    "\n",
    "def circulantMatrixEig(C):\n",
    "    \"\"\"\n",
    "    Vraća sopstvene vektore cirkularne matrice C kao kolone rezultujuće matrice.\n",
    "    \"\"\"\n",
    "    n=C.shape[0]\n",
    "    F=np.zeros((n,n),dtype='complex')\n",
    "    \n",
    "    for j in range(C.shape[0]):\n",
    "        for k in range(C.shape[0]):\n",
    "            F[j,k]=np.complex(np.cos(2*np.pi*j*k/n),np.sin(2*np.pi*j*k/n))\n",
    "    return F"
   ]
  },
  {
   "cell_type": "markdown",
   "metadata": {},
   "source": [
    "Za periodični ulaz x=[1 8 3 2 5] i odgovor sistema h=[3 5 2 4 1]:"
   ]
  },
  {
   "cell_type": "code",
   "execution_count": 8,
   "metadata": {},
   "outputs": [
    {
     "name": "stdout",
     "output_type": "stream",
     "text": [
      "x*h = [52 50 73 46 64]\n",
      "C = \n",
      " [[1 5 2 3 8]\n",
      " [8 1 5 2 3]\n",
      " [3 8 1 5 2]\n",
      " [2 3 8 1 5]\n",
      " [5 2 3 8 1]]\n"
     ]
    }
   ],
   "source": [
    "x,C=circularConvolution(np.array([1,8,3,2,5]),np.array([3,5,2,4,1]))\n",
    "print('x*h =',x)\n",
    "print('C = \\n',C)"
   ]
  },
  {
   "cell_type": "markdown",
   "metadata": {},
   "source": [
    "Za svaku cirkularnu matricu C, jedan sopstveni vektor je uvek $\\begin{bmatrix}1 \\\\ 1 \\\\ \\cdots \\\\ 1\\end{bmatrix}$ i odgovarajuća sopstvena vrednost je suma svih elemenata u jednom (bilo kojem) od redova matrice C."
   ]
  },
  {
   "cell_type": "code",
   "execution_count": 18,
   "metadata": {},
   "outputs": [
    {
     "name": "stdout",
     "output_type": "stream",
     "text": [
      "Eigen vector: [1. 1. 1. 1. 1.]\n",
      "Corresponding eigen value: 19\n"
     ]
    }
   ],
   "source": [
    "print('Eigen vector:',np.ones(C.shape[0]))\n",
    "print('Corresponding eigen value:',np.sum(C[0]))"
   ]
  },
  {
   "cell_type": "markdown",
   "metadata": {},
   "source": [
    "Kako doći do svih sopstvenih vektora cirkularne matrice C? Primetimo da za $w_n=e^{\\frac{2\\pi i}{n}}$ važi $w_n^{j+n}=w_n^jw_n^n=w_n^j$, tj. povećavanjem eksponenata vrednosti se periodično smenjuju, baš kao i vrednosti $c_i$\n",
    "\n",
    "<img src='slika1.jpg'>\n",
    "\n",
    "U terminima $w_n$, k-ti sopstveni vektor $x^{(k)}$ proizvoljne $n\\times n$ matrice je:\n",
    "$x^{(k)}=\\begin{bmatrix}w_n^{0k} \\\\ w_n^{1k}\\\\ \\vdots \\\\ w_n^{(n-1)k}\\end{bmatrix}$, pa je matrica sopstvenih vektora oblika:\n",
    "$F=\\begin{bmatrix}x^{(0)} & x^{(1)}&\\cdots &x^{(n-1)}\\end{bmatrix}$\n",
    "Množenjem vektora ovom matricom dobija se baš diskretna furijeova transformacija vektora, pa se ova matrica naziva **Furijeova matrica.**"
   ]
  },
  {
   "cell_type": "markdown",
   "metadata": {},
   "source": [
    "Kako doći do sopstvenih vrednosti matrice C? \n",
    "Pogledajmo proizvod $y=Cx^{(k)}$. Svaka komponenta se dobija na sledeći način:\n",
    "$y_l=\\sum_{j=0}^{n-1}{c_{j-l}w_n^{jk}}=w_n^{lk}\\sum_{j=0}^{n-1}{c_{j-l}w_n^{(j-l)k}}$. <br>Međutim, pošto su $c_j$ i $w_n^j$ periodični, sve što preslikavanje indeksa $j \\mapsto j-l$ radi jeste kružno pomeranje elemenata koji se sumiraju, tako da dobijamo istu sumu. <br>Sada na osnovu $Cx^{(k)}=\\lambda_k x^{(k)}$ dobijamo $\\lambda_k = \\sum_{j=0}^{n-1}{c_jw_n^{jk}}$. U terminima matrice F i vektora c (prva vrsta matrice C) vektor sopstvenih vrednosti $c_{\\lambda}$ dobijamo kao $c_{\\lambda}=Fc$"
   ]
  },
  {
   "cell_type": "markdown",
   "metadata": {},
   "source": [
    "Za cirkularne matrice C1 i C2 iste dimenzije, svi sopstveni vektori su jednaki:"
   ]
  },
  {
   "cell_type": "code",
   "execution_count": 19,
   "metadata": {},
   "outputs": [
    {
     "name": "stdout",
     "output_type": "stream",
     "text": [
      "(4.000000000000002+5.33340727540123e-17j)\n"
     ]
    }
   ],
   "source": [
    "x1,C1=circularConvolution(np.random.randint(0,100,4),np.array([1,2,3]))\n",
    "x2,C2=circularConvolution(np.random.randint(0,100,4),np.array([1,2,3]))\n",
    "\n",
    "vectors1=np.linalg.eig(C1)[1]\n",
    "vectors2=np.linalg.eig(C2)[1]\n",
    "eig_vectors_diff=[]\n",
    "for i in range(vectors1.shape[1]):\n",
    "    eig_vectors_diff.append(sum(vectors1[:,i]-vectors2[:,i]))\n",
    "    \n",
    "print(np.sum(eig_vectors_diff))"
   ]
  },
  {
   "cell_type": "code",
   "execution_count": 15,
   "metadata": {},
   "outputs": [
    {
     "data": {
      "text/plain": [
       "1"
      ]
     },
     "execution_count": 15,
     "metadata": {},
     "output_type": "execute_result"
    }
   ],
   "source": []
  },
  {
   "cell_type": "code",
   "execution_count": 21,
   "metadata": {
    "scrolled": true
   },
   "outputs": [],
   "source": [
    "F=circulantMatrixEig(C1)\n",
    "#normiranje kolona je potrebno naknadno odraditi\n",
    "#for i in range(F.shape[0]):\n",
    "#    F[:,i]=F[:,i]/np.linalg.norm(F[:,i])"
   ]
  },
  {
   "cell_type": "markdown",
   "metadata": {},
   "source": [
    "Sopstveni vektori svih matrica dimenzije (4,4):"
   ]
  },
  {
   "cell_type": "code",
   "execution_count": 22,
   "metadata": {},
   "outputs": [
    {
     "name": "stdout",
     "output_type": "stream",
     "text": [
      "[1.+0.j 1.+0.j 1.+0.j 1.+0.j]\n",
      "[ 1.0000000e+00+0.0000000e+00j  6.1232340e-17+1.0000000e+00j\n",
      " -1.0000000e+00+1.2246468e-16j -1.8369702e-16-1.0000000e+00j]\n",
      "[ 1.+0.0000000e+00j -1.+1.2246468e-16j  1.-2.4492936e-16j\n",
      " -1.+3.6739404e-16j]\n",
      "[ 1.0000000e+00+0.0000000e+00j -1.8369702e-16-1.0000000e+00j\n",
      " -1.0000000e+00+3.6739404e-16j  5.5109106e-16+1.0000000e+00j]\n"
     ]
    }
   ],
   "source": [
    "for i in range(F.shape[0]):\n",
    "    print(F[:,i])"
   ]
  },
  {
   "cell_type": "code",
   "execution_count": 23,
   "metadata": {},
   "outputs": [
    {
     "name": "stdout",
     "output_type": "stream",
     "text": [
      "[0.5+0.j 0.5+0.j 0.5+0.j 0.5+0.j]\n",
      "[ 5.00000000e-01+0.000000e+00j  3.06161700e-17+5.000000e-01j\n",
      " -5.00000000e-01+6.123234e-17j -9.18485099e-17-5.000000e-01j]\n",
      "[ 0.5+0.0000000e+00j -0.5+6.1232340e-17j  0.5-1.2246468e-16j\n",
      " -0.5+1.8369702e-16j]\n",
      "[ 5.00000000e-01+0.0000000e+00j -9.18485099e-17-5.0000000e-01j\n",
      " -5.00000000e-01+1.8369702e-16j  2.75545530e-16+5.0000000e-01j]\n"
     ]
    }
   ],
   "source": [
    "G=circulantMatrixEig(C2)\n",
    "for i in range(G.shape[0]):\n",
    "    G[:,i]=G[:,i]/np.linalg.norm(G[:,i])\n",
    "    \n",
    "for i in range(G.shape[0]):\n",
    "    print(G[:,i])"
   ]
  },
  {
   "cell_type": "markdown",
   "metadata": {},
   "source": [
    "Sopstvene vrednosti dobijamo množenjem matrice F prvim redom matrice C:"
   ]
  },
  {
   "cell_type": "code",
   "execution_count": 24,
   "metadata": {},
   "outputs": [
    {
     "data": {
      "text/plain": [
       "array([184.+0.0000000e+00j, -50.+2.0000000e+01j,  16.-2.4492936e-16j,\n",
       "       -50.-2.0000000e+01j])"
      ]
     },
     "execution_count": 24,
     "metadata": {},
     "output_type": "execute_result"
    }
   ],
   "source": [
    "eigenvals=np.dot(F,C1[0,:])\n",
    "eigenvals"
   ]
  },
  {
   "cell_type": "code",
   "execution_count": 25,
   "metadata": {},
   "outputs": [
    {
     "data": {
      "text/plain": [
       "array([184. +0.j,  16. +0.j, -50.+20.j, -50.-20.j])"
      ]
     },
     "execution_count": 25,
     "metadata": {},
     "output_type": "execute_result"
    }
   ],
   "source": [
    "np.linalg.eigvals(C1)"
   ]
  }
 ],
 "metadata": {
  "kernelspec": {
   "display_name": "Python 3",
   "language": "python",
   "name": "python3"
  },
  "language_info": {
   "codemirror_mode": {
    "name": "ipython",
    "version": 3
   },
   "file_extension": ".py",
   "mimetype": "text/x-python",
   "name": "python",
   "nbconvert_exporter": "python",
   "pygments_lexer": "ipython3",
   "version": "3.8.3"
  }
 },
 "nbformat": 4,
 "nbformat_minor": 4
}
