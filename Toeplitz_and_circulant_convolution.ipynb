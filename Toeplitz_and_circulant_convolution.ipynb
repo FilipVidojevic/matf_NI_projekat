{
 "cells": [
  {
   "cell_type": "code",
   "execution_count": 15,
   "metadata": {},
   "outputs": [],
   "source": [
    "import numpy as np\n",
    "from scipy import signal as sg\n",
    "from time import time"
   ]
  },
  {
   "cell_type": "code",
   "execution_count": 16,
   "metadata": {},
   "outputs": [],
   "source": [
    "#helper function\n",
    "def formHi(v,N1):\n",
    "    R=np.array([v]).T\n",
    "    \n",
    "    for i in range(N1-1):\n",
    "        v=np.insert(v,0,v[-1])\n",
    "        v=np.delete(v,-1)\n",
    "        R=np.hstack((R,np.array([v]).T))\n",
    "    return R\n",
    "\n",
    "#helper function\n",
    "def formH(Hlist,M1,N3):\n",
    "    \n",
    "    vertical=Hlist[0]\n",
    "    for i in range(1,len(Hlist)):\n",
    "        vertical=np.vstack((vertical,Hlist[i]))\n",
    "    \n",
    "    R=vertical.copy()\n",
    "    \n",
    "    for _ in range(M1-1):\n",
    "        for i in range(N3):\n",
    "            vertical=np.insert(vertical,0,vertical[-1-i],axis=0)\n",
    "        for i in range(N3):\n",
    "            vertical=np.delete(vertical,-1,axis=0)\n",
    "        R=np.hstack((R,vertical))\n",
    "    \n",
    "    return R\n",
    "#helper function\n",
    "def formF(A):\n",
    "    R=np.array([])\n",
    "    for row in A:\n",
    "        R=np.append(R,row)\n",
    "    return R.reshape(-1,1)\n",
    "\n",
    "def toeplitzConvolution(A,K):\n",
    "    \"\"\"\n",
    "    Returns 2D convolution of matrix A with kernel K by forming doubly block Toeplitz matrix\n",
    "    \"\"\"\n",
    "    M1,N1=A.shape\n",
    "    M2,N2=K.shape\n",
    "    M3=M1+M2-1\n",
    "    N3=N1+N2-1\n",
    "    \n",
    "    K_padded=np.zeros((M3,N3))\n",
    "    K_padded[:M2,:N2]=K\n",
    "    \n",
    "    f=formF(A)\n",
    "    \n",
    "    Hlist=[]\n",
    "    for row in K_padded:\n",
    "        Hlist.append(formHi(row,N1))\n",
    "    \n",
    "    H=formH(Hlist,M1,N3)\n",
    "    \n",
    "    return np.dot(H,f).reshape(M3,N3)\n",
    "\n",
    "def circularConvolution(v,k):\n",
    "    \"\"\"\n",
    "    Forms circulant matrix C from vector v and returns convolution of vector v \n",
    "    with kernel k, along with matrix C\n",
    "    \"\"\"\n",
    "    C=np.array([])\n",
    "    C=v.reshape(-1,1)\n",
    "    for i in range(v.size-k.size):\n",
    "        k=np.append(k,0)\n",
    "        \n",
    "    for i in range(v.size-1):\n",
    "        v=np.insert(v,0,v[-1])\n",
    "        v=np.delete(v,-1)\n",
    "        C=np.hstack((C,np.array([v]).T))\n",
    "    return np.dot(C,k),C\n",
    "\n",
    "def circulantMatrixEig(C):\n",
    "    \"\"\"\n",
    "    Return eigen vectors of circulant matrix C as columns of result matrix\n",
    "    \"\"\"\n",
    "    n=C.shape[0]\n",
    "    F=np.zeros((n,n),dtype='complex')\n",
    "    \n",
    "    for j in range(C.shape[0]):\n",
    "        for k in range(C.shape[0]):\n",
    "            F[j,k]=np.complex(np.cos(2*np.pi*j*k/n),np.sin(2*np.pi*j*k/n))\n",
    "    return F"
   ]
  },
  {
   "cell_type": "markdown",
   "metadata": {},
   "source": [
    "For periodic input x=[1 8 3 2 5] and system response h=[3 5 2 4 1]:"
   ]
  },
  {
   "cell_type": "code",
   "execution_count": 17,
   "metadata": {},
   "outputs": [
    {
     "name": "stdout",
     "output_type": "stream",
     "text": [
      "x*h = [52 50 73 46 64]\n",
      "C = \n",
      " [[1 5 2 3 8]\n",
      " [8 1 5 2 3]\n",
      " [3 8 1 5 2]\n",
      " [2 3 8 1 5]\n",
      " [5 2 3 8 1]]\n"
     ]
    }
   ],
   "source": [
    "x,C=circularConvolution(np.array([1,8,3,2,5]),np.array([3,5,2,4,1]))\n",
    "print('x*h =',x)\n",
    "print('C = \\n',C)"
   ]
  },
  {
   "cell_type": "markdown",
   "metadata": {},
   "source": [
    "For every Circulant matrix C, one eigen vector is always [1,1,...,1] and corresponding eigen value is sum of all elements in one row of matrix C"
   ]
  },
  {
   "cell_type": "code",
   "execution_count": 18,
   "metadata": {},
   "outputs": [
    {
     "name": "stdout",
     "output_type": "stream",
     "text": [
      "Eigen vector: [1. 1. 1. 1. 1.]\n",
      "Corresponding eigen value: 19\n"
     ]
    }
   ],
   "source": [
    "print('Eigen vector:',np.ones(C.shape[0]))\n",
    "print('Corresponding eigen value:',np.sum(C[0]))"
   ]
  },
  {
   "cell_type": "markdown",
   "metadata": {},
   "source": [
    "For Circulant matrices C1 and C2 of the same shape,all eigen vectors are the same:"
   ]
  },
  {
   "cell_type": "code",
   "execution_count": 19,
   "metadata": {},
   "outputs": [
    {
     "name": "stdout",
     "output_type": "stream",
     "text": [
      "(4.000000000000002+5.33340727540123e-17j)\n"
     ]
    }
   ],
   "source": [
    "x1,C1=circularConvolution(np.random.randint(0,100,4),np.array([1,2,3]))\n",
    "x2,C2=circularConvolution(np.random.randint(0,100,4),np.array([1,2,3]))\n",
    "\n",
    "vectors1=np.linalg.eig(C1)[1]\n",
    "vectors2=np.linalg.eig(C2)[1]\n",
    "eig_vectors_diff=[]\n",
    "for i in range(vectors1.shape[1]):\n",
    "    eig_vectors_diff.append(sum(vectors1[:,i]-vectors2[:,i]))\n",
    "    \n",
    "print(np.sum(eig_vectors_diff))"
   ]
  },
  {
   "cell_type": "code",
   "execution_count": 20,
   "metadata": {},
   "outputs": [
    {
     "name": "stdout",
     "output_type": "stream",
     "text": [
      "signal.convolve2d: 0.0004444122314453125\n",
      "toeplitz convolution: 1.5320701599121094\n"
     ]
    }
   ],
   "source": [
    "a=np.random.randint(0,100,(50,50))\n",
    "b=np.random.randint(0,10,(3,3))\n",
    "t0=time()\n",
    "y=sg.convolve2d(a,b)\n",
    "t1=time()\n",
    "x=toeplitzConvolution(a,b)\n",
    "t2=time()\n",
    "\n",
    "#print(sum(x-y))\n",
    "print('signal.convolve2d:',t1-t0)\n",
    "print('toeplitz convolution:',-t1+t2)\n"
   ]
  },
  {
   "cell_type": "code",
   "execution_count": 21,
   "metadata": {
    "scrolled": true
   },
   "outputs": [],
   "source": [
    "F=circulantMatrixEig(C1)\n",
    "#normiranje kolona je potrebno naknadno odraditi\n",
    "#for i in range(F.shape[0]):\n",
    "#    F[:,i]=F[:,i]/np.linalg.norm(F[:,i])"
   ]
  },
  {
   "cell_type": "markdown",
   "metadata": {},
   "source": [
    "Eigen vectors for all circulant matrices dim=(4,4):"
   ]
  },
  {
   "cell_type": "code",
   "execution_count": 22,
   "metadata": {},
   "outputs": [
    {
     "name": "stdout",
     "output_type": "stream",
     "text": [
      "[1.+0.j 1.+0.j 1.+0.j 1.+0.j]\n",
      "[ 1.0000000e+00+0.0000000e+00j  6.1232340e-17+1.0000000e+00j\n",
      " -1.0000000e+00+1.2246468e-16j -1.8369702e-16-1.0000000e+00j]\n",
      "[ 1.+0.0000000e+00j -1.+1.2246468e-16j  1.-2.4492936e-16j\n",
      " -1.+3.6739404e-16j]\n",
      "[ 1.0000000e+00+0.0000000e+00j -1.8369702e-16-1.0000000e+00j\n",
      " -1.0000000e+00+3.6739404e-16j  5.5109106e-16+1.0000000e+00j]\n"
     ]
    }
   ],
   "source": [
    "for i in range(F.shape[0]):\n",
    "    print(F[:,i])"
   ]
  },
  {
   "cell_type": "code",
   "execution_count": 23,
   "metadata": {},
   "outputs": [
    {
     "name": "stdout",
     "output_type": "stream",
     "text": [
      "[0.5+0.j 0.5+0.j 0.5+0.j 0.5+0.j]\n",
      "[ 5.00000000e-01+0.000000e+00j  3.06161700e-17+5.000000e-01j\n",
      " -5.00000000e-01+6.123234e-17j -9.18485099e-17-5.000000e-01j]\n",
      "[ 0.5+0.0000000e+00j -0.5+6.1232340e-17j  0.5-1.2246468e-16j\n",
      " -0.5+1.8369702e-16j]\n",
      "[ 5.00000000e-01+0.0000000e+00j -9.18485099e-17-5.0000000e-01j\n",
      " -5.00000000e-01+1.8369702e-16j  2.75545530e-16+5.0000000e-01j]\n"
     ]
    }
   ],
   "source": [
    "G=circulantMatrixEig(C2)\n",
    "for i in range(G.shape[0]):\n",
    "    G[:,i]=G[:,i]/np.linalg.norm(G[:,i])\n",
    "    \n",
    "for i in range(G.shape[0]):\n",
    "    print(G[:,i])"
   ]
  },
  {
   "cell_type": "markdown",
   "metadata": {},
   "source": [
    "We get eigen values by multiplying F with first row of matrix C"
   ]
  },
  {
   "cell_type": "code",
   "execution_count": 24,
   "metadata": {},
   "outputs": [
    {
     "data": {
      "text/plain": [
       "array([184.+0.0000000e+00j, -50.+2.0000000e+01j,  16.-2.4492936e-16j,\n",
       "       -50.-2.0000000e+01j])"
      ]
     },
     "execution_count": 24,
     "metadata": {},
     "output_type": "execute_result"
    }
   ],
   "source": [
    "eigenvals=np.dot(F,C1[0,:])\n",
    "eigenvals"
   ]
  },
  {
   "cell_type": "code",
   "execution_count": 25,
   "metadata": {},
   "outputs": [
    {
     "data": {
      "text/plain": [
       "array([184. +0.j,  16. +0.j, -50.+20.j, -50.-20.j])"
      ]
     },
     "execution_count": 25,
     "metadata": {},
     "output_type": "execute_result"
    }
   ],
   "source": [
    "np.linalg.eigvals(C1)"
   ]
  },
  {
   "cell_type": "code",
   "execution_count": null,
   "metadata": {},
   "outputs": [],
   "source": []
  },
  {
   "cell_type": "code",
   "execution_count": null,
   "metadata": {},
   "outputs": [],
   "source": []
  }
 ],
 "metadata": {
  "kernelspec": {
   "display_name": "Python 3",
   "language": "python",
   "name": "python3"
  },
  "language_info": {
   "codemirror_mode": {
    "name": "ipython",
    "version": 3
   },
   "file_extension": ".py",
   "mimetype": "text/x-python",
   "name": "python",
   "nbconvert_exporter": "python",
   "pygments_lexer": "ipython3",
   "version": "3.8.3"
  }
 },
 "nbformat": 4,
 "nbformat_minor": 4
}
